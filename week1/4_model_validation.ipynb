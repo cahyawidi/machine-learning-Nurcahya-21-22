{
  "cells": [
    {
      "cell_type": "markdown",
      "metadata": {
        "id": "view-in-github",
        "colab_type": "text"
      },
      "source": [
        "<a href=\"https://colab.research.google.com/github/cahyawidi/machine-learning-Nurcahya-21-22/blob/main/week1/4_model_validation.ipynb\" target=\"_parent\"><img src=\"https://colab.research.google.com/assets/colab-badge.svg\" alt=\"Open In Colab\"/></a>"
      ]
    },
    {
      "cell_type": "markdown",
      "source": [
        "**Your First Machine Learning Model**\n",
        "\n",
        "source : https://www.kaggle.com/dansbecker/model-validation\n",
        "\n",
        "**DATA DIRI**\n",
        "*   Nama  : Nur Cahya Widianto\n",
        "*   Nim   : 1103194115\n",
        "*   Kelas : TK-42-PIL\n"
      ],
      "metadata": {
        "id": "vaQWFmm58uMQ"
      },
      "id": "vaQWFmm58uMQ"
    },
    {
      "cell_type": "code",
      "source": [
        "# connect from google colab to drive so that we can take data in drive\n",
        "from google.colab import drive\n",
        "drive.mount('/content/drive')"
      ],
      "metadata": {
        "colab": {
          "base_uri": "https://localhost:8080/"
        },
        "id": "oL8-Yp0oR7XA",
        "outputId": "5dc17a0d-d632-4d35-e9c8-8e623d7ba952"
      },
      "id": "oL8-Yp0oR7XA",
      "execution_count": 4,
      "outputs": [
        {
          "output_type": "stream",
          "name": "stdout",
          "text": [
            "Mounted at /content/drive\n"
          ]
        }
      ]
    },
    {
      "cell_type": "code",
      "execution_count": 5,
      "id": "ec849e57",
      "metadata": {
        "_kg_hide-input": true,
        "_kg_hide-output": true,
        "collapsed": true,
        "execution": {
          "iopub.execute_input": "2021-11-09T00:01:04.476105Z",
          "iopub.status.busy": "2021-11-09T00:01:04.475215Z",
          "iopub.status.idle": "2021-11-09T00:01:05.685926Z",
          "shell.execute_reply": "2021-11-09T00:01:05.686509Z"
        },
        "papermill": {
          "duration": 1.225966,
          "end_time": "2021-11-09T00:01:05.686819",
          "exception": false,
          "start_time": "2021-11-09T00:01:04.460853",
          "status": "completed"
        },
        "tags": [],
        "colab": {
          "base_uri": "https://localhost:8080/"
        },
        "id": "ec849e57",
        "outputId": "944488ea-2bab-4f01-8698-fcc8e8c3ac17"
      },
      "outputs": [
        {
          "output_type": "execute_result",
          "data": {
            "text/plain": [
              "DecisionTreeRegressor()"
            ]
          },
          "metadata": {},
          "execution_count": 5
        }
      ],
      "source": [
        "# Data Loading Code Hidden Here\n",
        "import pandas as pd\n",
        "\n",
        "# Load data\n",
        "melbourne_file_path = '/content/drive/MyDrive/machine learning drive/melb_data.csv'\n",
        "melbourne_data = pd.read_csv(melbourne_file_path) \n",
        "# Filter rows with missing price values\n",
        "filtered_melbourne_data = melbourne_data.dropna(axis=0)\n",
        "# Choose target and features\n",
        "y = filtered_melbourne_data.Price\n",
        "melbourne_features = ['Rooms', 'Bathroom', 'Landsize', 'BuildingArea', \n",
        "                        'YearBuilt', 'Lattitude', 'Longtitude']\n",
        "X = filtered_melbourne_data[melbourne_features]\n",
        "\n",
        "from sklearn.tree import DecisionTreeRegressor\n",
        "# Define model\n",
        "melbourne_model = DecisionTreeRegressor()\n",
        "# Fit model\n",
        "melbourne_model.fit(X, y)"
      ]
    },
    {
      "cell_type": "code",
      "execution_count": 6,
      "id": "0d03b4e9",
      "metadata": {
        "collapsed": true,
        "execution": {
          "iopub.execute_input": "2021-11-09T00:01:05.718869Z",
          "iopub.status.busy": "2021-11-09T00:01:05.718224Z",
          "iopub.status.idle": "2021-11-09T00:01:05.728131Z",
          "shell.execute_reply": "2021-11-09T00:01:05.728926Z"
        },
        "papermill": {
          "duration": 0.024895,
          "end_time": "2021-11-09T00:01:05.729163",
          "exception": false,
          "start_time": "2021-11-09T00:01:05.704268",
          "status": "completed"
        },
        "tags": [],
        "colab": {
          "base_uri": "https://localhost:8080/"
        },
        "id": "0d03b4e9",
        "outputId": "099297dd-8b9e-4782-aa6d-29a498910986"
      },
      "outputs": [
        {
          "output_type": "execute_result",
          "data": {
            "text/plain": [
              "434.71594577146544"
            ]
          },
          "metadata": {},
          "execution_count": 6
        }
      ],
      "source": [
        "#import library sklearn matrics and insert to mean_absolute_error\n",
        "from sklearn.metrics import mean_absolute_error\n",
        "\n",
        "predicted_home_prices = melbourne_model.predict(X)\n",
        "mean_absolute_error(y, predicted_home_prices)"
      ]
    },
    {
      "cell_type": "code",
      "execution_count": 7,
      "id": "a7b29b0a",
      "metadata": {
        "collapsed": true,
        "execution": {
          "iopub.execute_input": "2021-11-09T00:01:05.755684Z",
          "iopub.status.busy": "2021-11-09T00:01:05.755080Z",
          "iopub.status.idle": "2021-11-09T00:01:05.800527Z",
          "shell.execute_reply": "2021-11-09T00:01:05.799855Z"
        },
        "papermill": {
          "duration": 0.054019,
          "end_time": "2021-11-09T00:01:05.800669",
          "exception": false,
          "start_time": "2021-11-09T00:01:05.746650",
          "status": "completed"
        },
        "tags": [],
        "colab": {
          "base_uri": "https://localhost:8080/"
        },
        "id": "a7b29b0a",
        "outputId": "66dc599f-1deb-4645-f267-e16d093f2d7c"
      },
      "outputs": [
        {
          "output_type": "stream",
          "name": "stdout",
          "text": [
            "262321.5255003228\n"
          ]
        }
      ],
      "source": [
        "from sklearn.model_selection import train_test_split\n",
        "\n",
        "# split data into training and validation data, for both features and target\n",
        "# The split is based on a random number generator. Supplying a numeric value to\n",
        "# the random_state argument guarantees we get the same split every time we\n",
        "# run this script.\n",
        "train_X, val_X, train_y, val_y = train_test_split(X, y, random_state = 0)\n",
        "# Define model\n",
        "melbourne_model = DecisionTreeRegressor()\n",
        "# Fit model\n",
        "melbourne_model.fit(train_X, train_y)\n",
        "\n",
        "# get predicted prices on validation data\n",
        "val_predictions = melbourne_model.predict(val_X)\n",
        "print(mean_absolute_error(val_y, val_predictions))"
      ]
    }
  ],
  "metadata": {
    "kernelspec": {
      "display_name": "Python 3",
      "language": "python",
      "name": "python3"
    },
    "language_info": {
      "codemirror_mode": {
        "name": "ipython",
        "version": 3
      },
      "file_extension": ".py",
      "mimetype": "text/x-python",
      "name": "python",
      "nbconvert_exporter": "python",
      "pygments_lexer": "ipython3",
      "version": "3.7.10"
    },
    "papermill": {
      "default_parameters": {},
      "duration": 9.6255,
      "end_time": "2021-11-09T00:01:06.453519",
      "environment_variables": {},
      "exception": null,
      "input_path": "__notebook__.ipynb",
      "output_path": "__notebook__.ipynb",
      "parameters": {},
      "start_time": "2021-11-09T00:00:56.828019",
      "version": "2.3.3"
    },
    "colab": {
      "name": "4_model-validation.ipynb",
      "provenance": [],
      "include_colab_link": true
    }
  },
  "nbformat": 4,
  "nbformat_minor": 5
}