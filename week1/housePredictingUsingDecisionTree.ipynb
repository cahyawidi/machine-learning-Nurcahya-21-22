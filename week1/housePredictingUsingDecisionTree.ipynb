{
  "nbformat": 4,
  "nbformat_minor": 0,
  "metadata": {
    "colab": {
      "name": "housePredictingUsingDecisionTree.ipynb",
      "provenance": [],
      "authorship_tag": "ABX9TyNMgZbO1SV8YmVIWdKbFufi",
      "include_colab_link": true
    },
    "kernelspec": {
      "name": "python3",
      "display_name": "Python 3"
    },
    "language_info": {
      "name": "python"
    }
  },
  "cells": [
    {
      "cell_type": "markdown",
      "metadata": {
        "id": "view-in-github",
        "colab_type": "text"
      },
      "source": [
        "<a href=\"https://colab.research.google.com/github/cahyawidi/machine-learning-Nurcahya-21-22/blob/main/week1/housePredictingUsingDecisionTree.ipynb\" target=\"_parent\"><img src=\"https://colab.research.google.com/assets/colab-badge.svg\" alt=\"Open In Colab\"/></a>"
      ]
    },
    {
      "cell_type": "code",
      "execution_count": 4,
      "metadata": {
        "colab": {
          "base_uri": "https://localhost:8080/"
        },
        "id": "wRFgE3DdVwjK",
        "outputId": "22ec1b63-560d-4064-8086-d359d904c15e"
      },
      "outputs": [
        {
          "output_type": "stream",
          "name": "stdout",
          "text": [
            "cahya\n"
          ]
        }
      ],
      "source": [
        "print ('cahya')"
      ]
    }
  ]
}