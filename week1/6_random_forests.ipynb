{
  "cells": [
    {
      "cell_type": "markdown",
      "metadata": {
        "id": "view-in-github",
        "colab_type": "text"
      },
      "source": [
        "<a href=\"https://colab.research.google.com/github/cahyawidi/machine-learning-Nurcahya-21-22/blob/main/week1/6_random_forests.ipynb\" target=\"_parent\"><img src=\"https://colab.research.google.com/assets/colab-badge.svg\" alt=\"Open In Colab\"/></a>"
      ]
    },
    {
      "cell_type": "markdown",
      "source": [
        "**Your First Machine Learning Model**\n",
        "\n",
        "source : https://www.kaggle.com/dansbecker/random-forests\n",
        "\n",
        "**DATA DIRI**\n",
        "*   Nama  : Nur Cahya Widianto\n",
        "*   Nim   : 1103194115\n",
        "*   Kelas : TK-42-PIL\n"
      ],
      "metadata": {
        "id": "vaQWFmm58uMQ"
      },
      "id": "vaQWFmm58uMQ"
    },
    {
      "cell_type": "code",
      "source": [
        "# connect from google colab to drive so that we can take data in drive\n",
        "from google.colab import drive\n",
        "drive.mount('/content/drive')"
      ],
      "metadata": {
        "id": "3X5Pm87X5MfS",
        "outputId": "252c5a37-b988-4d21-f8b0-2af2bb443aad",
        "colab": {
          "base_uri": "https://localhost:8080/"
        }
      },
      "execution_count": 3,
      "outputs": [
        {
          "output_type": "stream",
          "name": "stdout",
          "text": [
            "Drive already mounted at /content/drive; to attempt to forcibly remount, call drive.mount(\"/content/drive\", force_remount=True).\n"
          ]
        }
      ],
      "id": "3X5Pm87X5MfS"
    },
    {
      "cell_type": "code",
      "execution_count": 4,
      "id": "3af5bfaf",
      "metadata": {
        "_kg_hide-input": true,
        "_kg_hide-output": true,
        "collapsed": true,
        "execution": {
          "iopub.execute_input": "2021-11-09T00:03:16.086978Z",
          "iopub.status.busy": "2021-11-09T00:03:16.083628Z",
          "iopub.status.idle": "2021-11-09T00:03:17.190166Z",
          "shell.execute_reply": "2021-11-09T00:03:17.189513Z"
        },
        "papermill": {
          "duration": 1.114736,
          "end_time": "2021-11-09T00:03:17.190332",
          "exception": false,
          "start_time": "2021-11-09T00:03:16.075596",
          "status": "completed"
        },
        "tags": [],
        "id": "3af5bfaf"
      },
      "outputs": [],
      "source": [
        "import pandas as pd\n",
        "    \n",
        "# Load data\n",
        "melbourne_file_path = '/content/drive/MyDrive/machine learning drive/melb_data.csv'\n",
        "melbourne_data = pd.read_csv(melbourne_file_path) \n",
        "# Filter rows with missing values\n",
        "melbourne_data = melbourne_data.dropna(axis=0)\n",
        "# Choose target and features\n",
        "y = melbourne_data.Price\n",
        "melbourne_features = ['Rooms', 'Bathroom', 'Landsize', 'BuildingArea', \n",
        "                        'YearBuilt', 'Lattitude', 'Longtitude']\n",
        "X = melbourne_data[melbourne_features]\n",
        "\n",
        "from sklearn.model_selection import train_test_split\n",
        "\n",
        "# split data into training and validation data, for both features and target\n",
        "# The split is based on a random number generator. Supplying a numeric value to\n",
        "# the random_state argument guarantees we get the same split every time we\n",
        "# run this script.\n",
        "train_X, val_X, train_y, val_y = train_test_split(X, y,random_state = 0)"
      ]
    },
    {
      "cell_type": "code",
      "execution_count": 5,
      "id": "fb800b15",
      "metadata": {
        "collapsed": true,
        "execution": {
          "iopub.execute_input": "2021-11-09T00:03:17.212333Z",
          "iopub.status.busy": "2021-11-09T00:03:17.211649Z",
          "iopub.status.idle": "2021-11-09T00:03:19.471573Z",
          "shell.execute_reply": "2021-11-09T00:03:19.472050Z"
        },
        "papermill": {
          "duration": 2.269374,
          "end_time": "2021-11-09T00:03:19.472229",
          "exception": false,
          "start_time": "2021-11-09T00:03:17.202855",
          "status": "completed"
        },
        "tags": [],
        "colab": {
          "base_uri": "https://localhost:8080/"
        },
        "id": "fb800b15",
        "outputId": "f934d06d-96a2-4d38-db37-c6f2d398fedb"
      },
      "outputs": [
        {
          "output_type": "stream",
          "name": "stdout",
          "text": [
            "191669.7536453626\n"
          ]
        }
      ],
      "source": [
        "from sklearn.ensemble import RandomForestRegressor\n",
        "from sklearn.metrics import mean_absolute_error\n",
        "\n",
        "forest_model = RandomForestRegressor(random_state=1)\n",
        "forest_model.fit(train_X, train_y)\n",
        "melb_preds = forest_model.predict(val_X)\n",
        "print(mean_absolute_error(val_y, melb_preds))"
      ]
    }
  ],
  "metadata": {
    "kernelspec": {
      "display_name": "Python 3",
      "language": "python",
      "name": "python3"
    },
    "language_info": {
      "codemirror_mode": {
        "name": "ipython",
        "version": 3
      },
      "file_extension": ".py",
      "mimetype": "text/x-python",
      "name": "python",
      "nbconvert_exporter": "python",
      "pygments_lexer": "ipython3",
      "version": "3.7.10"
    },
    "papermill": {
      "default_parameters": {},
      "duration": 12.470934,
      "end_time": "2021-11-09T00:03:20.206628",
      "environment_variables": {},
      "exception": null,
      "input_path": "__notebook__.ipynb",
      "output_path": "__notebook__.ipynb",
      "parameters": {},
      "start_time": "2021-11-09T00:03:07.735694",
      "version": "2.3.3"
    },
    "colab": {
      "name": "6_random forests.ipynb",
      "provenance": [],
      "include_colab_link": true
    }
  },
  "nbformat": 4,
  "nbformat_minor": 5
}