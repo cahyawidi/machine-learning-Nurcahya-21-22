{
  "cells": [
    {
      "cell_type": "markdown",
      "metadata": {
        "id": "view-in-github",
        "colab_type": "text"
      },
      "source": [
        "<a href=\"https://colab.research.google.com/github/cahyawidi/machine-learning-Nurcahya-21-22/blob/main/week1/5_underfitting_and_overfitting.ipynb\" target=\"_parent\"><img src=\"https://colab.research.google.com/assets/colab-badge.svg\" alt=\"Open In Colab\"/></a>"
      ]
    },
    {
      "cell_type": "markdown",
      "source": [
        "**Your First Machine Learning Model**\n",
        "\n",
        "source : https://www.kaggle.com/dansbecker/underfitting-and-overfitting\n",
        "\n",
        "**DATA DIRI**\n",
        "*   Nama  : Nur Cahya Widianto\n",
        "*   Nim   : 1103194115\n",
        "*   Kelas : TK-42-PIL\n"
      ],
      "metadata": {
        "id": "vaQWFmm58uMQ"
      },
      "id": "vaQWFmm58uMQ"
    },
    {
      "cell_type": "code",
      "source": [
        "# connect from google colab to drive so that we can take data in drive\n",
        "from google.colab import drive\n",
        "drive.mount('/content/drive')"
      ],
      "metadata": {
        "id": "3X5Pm87X5MfS",
        "outputId": "19d7f112-a8b0-4e6f-fa2c-2b76effb9b0c",
        "colab": {
          "base_uri": "https://localhost:8080/"
        }
      },
      "execution_count": 6,
      "outputs": [
        {
          "output_type": "stream",
          "name": "stdout",
          "text": [
            "Drive already mounted at /content/drive; to attempt to forcibly remount, call drive.mount(\"/content/drive\", force_remount=True).\n"
          ]
        }
      ],
      "id": "3X5Pm87X5MfS"
    },
    {
      "cell_type": "code",
      "execution_count": 7,
      "id": "34810c80",
      "metadata": {
        "collapsed": true,
        "execution": {
          "iopub.execute_input": "2021-11-09T00:01:48.969349Z",
          "iopub.status.busy": "2021-11-09T00:01:48.965099Z",
          "iopub.status.idle": "2021-11-09T00:01:50.251307Z",
          "shell.execute_reply": "2021-11-09T00:01:50.250549Z"
        },
        "papermill": {
          "duration": 1.300336,
          "end_time": "2021-11-09T00:01:50.251504",
          "exception": false,
          "start_time": "2021-11-09T00:01:48.951168",
          "status": "completed"
        },
        "tags": [],
        "id": "34810c80"
      },
      "outputs": [],
      "source": [
        "from sklearn.metrics import mean_absolute_error\n",
        "from sklearn.tree import DecisionTreeRegressor\n",
        "\n",
        "def get_mae(max_leaf_nodes, train_X, val_X, train_y, val_y):\n",
        "    model = DecisionTreeRegressor(max_leaf_nodes=max_leaf_nodes, random_state=0)\n",
        "    model.fit(train_X, train_y)\n",
        "    preds_val = model.predict(val_X)\n",
        "    mae = mean_absolute_error(val_y, preds_val)\n",
        "    return(mae)"
      ]
    },
    {
      "cell_type": "code",
      "execution_count": 8,
      "id": "54faafc8",
      "metadata": {
        "_kg_hide-input": true,
        "_kg_hide-output": true,
        "collapsed": true,
        "execution": {
          "iopub.execute_input": "2021-11-09T00:01:50.280326Z",
          "iopub.status.busy": "2021-11-09T00:01:50.279611Z",
          "iopub.status.idle": "2021-11-09T00:01:50.412378Z",
          "shell.execute_reply": "2021-11-09T00:01:50.411756Z"
        },
        "papermill": {
          "duration": 0.142013,
          "end_time": "2021-11-09T00:01:50.412538",
          "exception": false,
          "start_time": "2021-11-09T00:01:50.270525",
          "status": "completed"
        },
        "tags": [],
        "id": "54faafc8"
      },
      "outputs": [],
      "source": [
        "# Data Loading Code Runs At This Point\n",
        "import pandas as pd\n",
        "    \n",
        "# Load data\n",
        "melbourne_file_path = '/content/drive/MyDrive/machine learning drive/melb_data.csv'\n",
        "melbourne_data = pd.read_csv(melbourne_file_path) \n",
        "# Filter rows with missing values\n",
        "filtered_melbourne_data = melbourne_data.dropna(axis=0)\n",
        "# Choose target and features\n",
        "y = filtered_melbourne_data.Price\n",
        "melbourne_features = ['Rooms', 'Bathroom', 'Landsize', 'BuildingArea', \n",
        "                        'YearBuilt', 'Lattitude', 'Longtitude']\n",
        "X = filtered_melbourne_data[melbourne_features]\n",
        "\n",
        "from sklearn.model_selection import train_test_split\n",
        "\n",
        "# split data into training and validation data, for both features and target\n",
        "train_X, val_X, train_y, val_y = train_test_split(X, y,random_state = 0)"
      ]
    },
    {
      "cell_type": "code",
      "execution_count": 9,
      "id": "b8cef8ad",
      "metadata": {
        "collapsed": true,
        "execution": {
          "iopub.execute_input": "2021-11-09T00:01:50.448695Z",
          "iopub.status.busy": "2021-11-09T00:01:50.447607Z",
          "iopub.status.idle": "2021-11-09T00:01:50.544210Z",
          "shell.execute_reply": "2021-11-09T00:01:50.543522Z"
        },
        "papermill": {
          "duration": 0.110697,
          "end_time": "2021-11-09T00:01:50.544357",
          "exception": false,
          "start_time": "2021-11-09T00:01:50.433660",
          "status": "completed"
        },
        "tags": [],
        "colab": {
          "base_uri": "https://localhost:8080/"
        },
        "id": "b8cef8ad",
        "outputId": "d9538017-b255-473a-f677-2b5a99d2a326"
      },
      "outputs": [
        {
          "output_type": "stream",
          "name": "stdout",
          "text": [
            "Max leaf nodes: 5  \t\t Mean Absolute Error:  347380\n",
            "Max leaf nodes: 50  \t\t Mean Absolute Error:  258171\n",
            "Max leaf nodes: 500  \t\t Mean Absolute Error:  243495\n",
            "Max leaf nodes: 5000  \t\t Mean Absolute Error:  254983\n"
          ]
        }
      ],
      "source": [
        "# compare MAE with differing values of max_leaf_nodes\n",
        "for max_leaf_nodes in [5, 50, 500, 5000]:\n",
        "    my_mae = get_mae(max_leaf_nodes, train_X, val_X, train_y, val_y)\n",
        "    print(\"Max leaf nodes: %d  \\t\\t Mean Absolute Error:  %d\" %(max_leaf_nodes, my_mae))"
      ]
    }
  ],
  "metadata": {
    "kernelspec": {
      "display_name": "Python 3",
      "language": "python",
      "name": "python3"
    },
    "language_info": {
      "codemirror_mode": {
        "name": "ipython",
        "version": 3
      },
      "file_extension": ".py",
      "mimetype": "text/x-python",
      "name": "python",
      "nbconvert_exporter": "python",
      "pygments_lexer": "ipython3",
      "version": "3.7.10"
    },
    "papermill": {
      "default_parameters": {},
      "duration": 12.169697,
      "end_time": "2021-11-09T00:01:51.292001",
      "environment_variables": {},
      "exception": null,
      "input_path": "__notebook__.ipynb",
      "output_path": "__notebook__.ipynb",
      "parameters": {},
      "start_time": "2021-11-09T00:01:39.122304",
      "version": "2.3.3"
    },
    "colab": {
      "name": "5_underfitting and overfitting.ipynb",
      "provenance": [],
      "include_colab_link": true
    }
  },
  "nbformat": 4,
  "nbformat_minor": 5
}